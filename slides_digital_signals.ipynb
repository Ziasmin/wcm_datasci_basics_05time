{
 "cells": [
  {
   "cell_type": "markdown",
   "metadata": {
    "slideshow": {
     "slide_type": "slide"
    }
   },
   "source": [
    "<p style=\"text-align:center; font-size:80px\">\n",
    "    <b>\n",
    "        Introduction to Digital Signals\n",
    "    </b>\n",
    "</p>"
   ]
  },
  {
   "cell_type": "markdown",
   "metadata": {
    "slideshow": {
     "slide_type": "subslide"
    }
   },
   "source": [
    "Digital signals are sampled and discretized:\n",
    "---\n",
    "<center>\n",
    "<img src=\"imgs/signal.png\" alt=\"digital_signal\">\n",
    "</center>"
   ]
  },
  {
   "cell_type": "markdown",
   "metadata": {
    "slideshow": {
     "slide_type": "subslide"
    }
   },
   "source": [
    "Discretization\n",
    "---\n",
    "<center>\n",
    "<img src=\"imgs/penny.png\" alt=\"penny\">\n",
    "</center>"
   ]
  },
  {
   "cell_type": "markdown",
   "metadata": {
    "slideshow": {
     "slide_type": "subslide"
    }
   },
   "source": [
    "Discretization is a nonlinear process\n",
    "---\n",
    "<center>\n",
    "<img src=\"imgs/discretization.png\" alt=\"discretize\">\n",
    "</center>"
   ]
  },
  {
   "cell_type": "markdown",
   "metadata": {
    "slideshow": {
     "slide_type": "subslide"
    }
   },
   "source": [
    "Non-linear Amplification\n",
    "---\n",
    "Non-linearity creates artifacts in the frequency domain\n",
    "\n",
    "<center>\n",
    "<img src=\"imgs/harmonics.png\" alt=\"nonlinearity\">\n",
    "</center>"
   ]
  },
  {
   "cell_type": "markdown",
   "metadata": {
    "slideshow": {
     "slide_type": "subslide"
    }
   },
   "source": [
    "Discretization\n",
    "---\n",
    "Math-y expression explaining harmonic distortions:\n",
    "\n",
    "$$ x(t) = sin(\\omega t) $$"
   ]
  },
  {
   "cell_type": "markdown",
   "metadata": {
    "slideshow": {
     "slide_type": "fragment"
    }
   },
   "source": [
    "$$ y(t) = x^2(t) = \\sin^2(\\omega t) = \\frac{1}{2} - \\frac{1}{2}\\cos(2\\omega t)$$"
   ]
  },
  {
   "cell_type": "markdown",
   "metadata": {
    "slideshow": {
     "slide_type": "fragment"
    }
   },
   "source": [
    "$$ y(t) = \\sin^3(\\omega t) = \\frac{3}{4}\\sin(\\omega t) - \\frac{1}{4}\\sin(3\\omega t)$$"
   ]
  },
  {
   "cell_type": "markdown",
   "metadata": {
    "slideshow": {
     "slide_type": "subslide"
    }
   },
   "source": [
    "Fourier Transform\n",
    "---\n",
    "The Fourier transform takes a function of time $f(t)$ and maps it to a function of frequency $F(\\omega)$\n",
    "\n",
    "<center>\n",
    "    <img src=\"https://upload.wikimedia.org/wikipedia/commons/7/72/Fourier_transform_time_and_frequency_domains_%28small%29.gif\">\n",
    "</center>"
   ]
  },
  {
   "cell_type": "markdown",
   "metadata": {
    "slideshow": {
     "slide_type": "subslide"
    }
   },
   "source": [
    "Complex Numbers\n",
    "---\n",
    "Fourier Transform takes advantage of complex numbers in analyzing time-varying quantities:\n",
    "\n",
    "$$ z = |z|\\exp(i\\omega t) = |z|(\\cos\\omega t + i\\sin\\omega t)$$"
   ]
  },
  {
   "cell_type": "markdown",
   "metadata": {
    "slideshow": {
     "slide_type": "fragment"
    }
   },
   "source": [
    "<center>\n",
    "    <img src=\"https://miro.medium.com/max/584/0*qSRvdhTu3L2-O0_u.gif\"\n",
    "</center>"
   ]
  },
  {
   "cell_type": "markdown",
   "metadata": {
    "slideshow": {
     "slide_type": "subslide"
    }
   },
   "source": [
    "Sampling\n",
    "---\n",
    "\n",
    "If the signal is sampled every $\\Delta t$ (in seconds), the sampling frequency (Hz $= s^-1$) is given by:\n",
    "$$ f_s = \\frac{1}{\\Delta t} $$"
   ]
  },
  {
   "cell_type": "markdown",
   "metadata": {
    "slideshow": {
     "slide_type": "fragment"
    }
   },
   "source": [
    "For images the resolution is given by pixel size $\\Delta x$ (in cm) or as pixels per cm: \n",
    "$$ f_s = \\frac{1}{\\Delta x} $$"
   ]
  },
  {
   "cell_type": "markdown",
   "metadata": {
    "slideshow": {
     "slide_type": "fragment"
    }
   },
   "source": [
    "The sampling theorem states that one has to sample a signal at least twice the frequency of the highest oscillation.\n",
    "\n",
    "For example: a 10Hz oscillation has to be sampled at least every 1/20s."
   ]
  },
  {
   "cell_type": "markdown",
   "metadata": {
    "slideshow": {
     "slide_type": "subslide"
    }
   },
   "source": [
    "Sampling\n",
    "---\n",
    "\n",
    "If we violate that requirement, we get distortions. In imaging, it's called aliasing:\n",
    "\n",
    "Example: $f(x,y)=|\\sin(x^2 + y^2)|$. 720x240 pixels and amplitude scaled to $[0, 255]$ and discretized. Bad sampling will result in artifacts in space."
   ]
  },
  {
   "cell_type": "markdown",
   "metadata": {
    "slideshow": {
     "slide_type": "subslide"
    }
   },
   "source": [
    "<center>\n",
    "    <img src=\"imgs/aliasing.png\" style=\"width:1200px\">\n",
    "</center>"
   ]
  },
  {
   "cell_type": "markdown",
   "metadata": {
    "slideshow": {
     "slide_type": "notes"
    }
   },
   "source": [
    "Useful Python commands used:\n",
    "---\n",
    "```python\n",
    "plt.figure().subplots(rows, cols) # create a figure with rows x cols subplots.\n",
    "plt.subplot(2, 2, 1) # subplot in the 1st axes\n",
    "plt.plot(t, y)\n",
    "plt.stem(t, y)\n",
    "\n",
    "P = plt.imread('penny.jpg').copy() # load the penny image\n",
    "plt.set_cmap(plt.get_cmap('copper')) # make copper the default colormap for your penny figure\n",
    "\n",
    "[x, y] = np.meshgrid(a, b) # Generate a grid. Each row (x) is a copy of a, and each column (Y) is a copy of b. \n",
    "\n",
    "# functions:\n",
    "# For RGB - Grayscale conversion\n",
    "def rgb2gray(rgb):\n",
    "    coeffs = np.array([0.299, 0.587, 0.114])\n",
    "    return np.dot(rgb, coeffs)\n",
    "```"
   ]
  },
  {
   "cell_type": "code",
   "execution_count": null,
   "metadata": {},
   "outputs": [],
   "source": []
  }
 ],
 "metadata": {
  "celltoolbar": "Slideshow",
  "kernelspec": {
   "display_name": "brainhack",
   "language": "python",
   "name": "brainhack"
  },
  "language_info": {
   "codemirror_mode": {
    "name": "ipython",
    "version": 3
   },
   "file_extension": ".py",
   "mimetype": "text/x-python",
   "name": "python",
   "nbconvert_exporter": "python",
   "pygments_lexer": "ipython3",
   "version": "3.7.8"
  }
 },
 "nbformat": 4,
 "nbformat_minor": 4
}
